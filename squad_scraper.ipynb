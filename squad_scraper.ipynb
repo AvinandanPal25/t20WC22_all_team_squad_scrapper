{
 "cells": [
  {
   "cell_type": "code",
   "execution_count": 5,
   "metadata": {},
   "outputs": [],
   "source": [
    "from bs4 import BeautifulSoup\n",
    "import requests\n",
    "import csv"
   ]
  },
  {
   "cell_type": "code",
   "execution_count": 90,
   "metadata": {},
   "outputs": [
    {
     "data": {
      "text/plain": [
       "50"
      ]
     },
     "execution_count": 90,
     "metadata": {},
     "output_type": "execute_result"
    }
   ],
   "source": [
    "csv_file = open('Squad_member_df.csv', 'w', newline='')\n",
    "csv_writer = csv.writer(csv_file)\n",
    "csv_writer.writerow(['Team', 'Player_name', 'Role', 'Batting_style', 'Bowing_style'])"
   ]
  },
  {
   "cell_type": "code",
   "execution_count": 91,
   "metadata": {},
   "outputs": [],
   "source": [
    "page = requests.get('https://www.espncricinfo.com/series/icc-men-s-t20-world-cup-2022-23-1298134/squads').text\n",
    "Soup=BeautifulSoup(page, 'html.parser')\n",
    "team_squad_div = Soup.find_all('div', class_=\"ds-flex lg:ds-flex-row sm:ds-flex-col lg:ds-items-center lg:ds-justify-between ds-py-2 ds-px-4 ds-flex-wrap odd:ds-bg-fill-content-alternate\")\n",
    "\n",
    "for team in team_squad_div:\n",
    "    link = team.a['href']\n",
    "    full_link = 'https://www.espncricinfo.com' + link\n",
    "\n",
    "    source=requests.get(full_link).text\n",
    "    soup=BeautifulSoup(source, 'html.parser')\n",
    "    \n",
    "    squad_div = soup.find_all('div', class_=\"ds-border-line odd:ds-border-r ds-border-b\")\n",
    "    for member in squad_div:\n",
    "        Team = team.a.text[0:-6]\n",
    "        name=member.find('div', class_=\"ds-flex-1\").a.text\n",
    "        role=member.find('div', class_=\"ds-flex-1\").p.text\n",
    "        detail = member.find_all('p', class_=\"ds-text-tight-m ds-font-regular\") #it contains AGE, BAT, and BOWL style\n",
    "        bat_style = detail[1].text[9:14] #sliced to only get \"right/left\"\n",
    "        try:\n",
    "            bowl_style = detail[2].text[9:] #sliced to get the style only\n",
    "        except:\n",
    "            bowl_style = '' #some players don't bowl\n",
    "        csv_writer.writerow([Team, name, role, bat_style, bowl_style])\n",
    "csv_file.close()"
   ]
  }
 ],
 "metadata": {
  "kernelspec": {
   "display_name": "Python 3.9.5 64-bit",
   "language": "python",
   "name": "python3"
  },
  "language_info": {
   "codemirror_mode": {
    "name": "ipython",
    "version": 3
   },
   "file_extension": ".py",
   "mimetype": "text/x-python",
   "name": "python",
   "nbconvert_exporter": "python",
   "pygments_lexer": "ipython3",
   "version": "3.9.5"
  },
  "orig_nbformat": 4,
  "vscode": {
   "interpreter": {
    "hash": "2469a70536e4d2335a2ea8907942d0699c37342a371ac185bdb5b0aa6f073890"
   }
  }
 },
 "nbformat": 4,
 "nbformat_minor": 2
}
